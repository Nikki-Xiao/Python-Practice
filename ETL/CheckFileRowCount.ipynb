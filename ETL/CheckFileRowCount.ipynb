{
 "cells": [
  {
   "cell_type": "code",
   "execution_count": 32,
   "id": "bb1134ad",
   "metadata": {},
   "outputs": [],
   "source": [
    "import pandas as pd\n",
    "import numpy as np"
   ]
  },
  {
   "cell_type": "code",
   "execution_count": 33,
   "id": "f18b6c25",
   "metadata": {},
   "outputs": [
    {
     "data": {
      "text/html": [
       "<div>\n",
       "<style scoped>\n",
       "    .dataframe tbody tr th:only-of-type {\n",
       "        vertical-align: middle;\n",
       "    }\n",
       "\n",
       "    .dataframe tbody tr th {\n",
       "        vertical-align: top;\n",
       "    }\n",
       "\n",
       "    .dataframe thead th {\n",
       "        text-align: right;\n",
       "    }\n",
       "</style>\n",
       "<table border=\"1\" class=\"dataframe\">\n",
       "  <thead>\n",
       "    <tr style=\"text-align: right;\">\n",
       "      <th></th>\n",
       "      <th>File_Path</th>\n",
       "      <th>Header</th>\n",
       "      <th>Skip_Rows</th>\n",
       "      <th>Sheet_Name</th>\n",
       "    </tr>\n",
       "  </thead>\n",
       "  <tbody>\n",
       "    <tr>\n",
       "      <th>0</th>\n",
       "      <td>data/Source.csv</td>\n",
       "      <td>0</td>\n",
       "      <td>0</td>\n",
       "      <td></td>\n",
       "    </tr>\n",
       "    <tr>\n",
       "      <th>1</th>\n",
       "      <td>data/Source.xlsx</td>\n",
       "      <td>1</td>\n",
       "      <td>0</td>\n",
       "      <td>Source_Sheet</td>\n",
       "    </tr>\n",
       "  </tbody>\n",
       "</table>\n",
       "</div>"
      ],
      "text/plain": [
       "          File_Path  Header  Skip_Rows    Sheet_Name\n",
       "0   data/Source.csv       0          0              \n",
       "1  data/Source.xlsx       1          0  Source_Sheet"
      ]
     },
     "execution_count": 33,
     "metadata": {},
     "output_type": "execute_result"
    }
   ],
   "source": [
    "# file list to be read from\n",
    "file_list = {\n",
    "    'File_Path':['data/Source.csv','data/Source.xlsx'],\n",
    "    'Header':[0,1],\n",
    "    'Skip_Rows':[0,0],\n",
    "    'Sheet_Name':['','Source_Sheet']\n",
    "}\n",
    "\n",
    "df_fl = pd.DataFrame(file_list)\n",
    "df_fl"
   ]
  },
  {
   "cell_type": "code",
   "execution_count": 34,
   "id": "ec1b00bb",
   "metadata": {},
   "outputs": [],
   "source": [
    "# count rows func \n",
    "def count_rows(file_path, skip_rows, header, sheet_name):\n",
    "    # read file\n",
    "    if file_path.endswith('.csv'):\n",
    "        df = pd.read_csv(file_path,skip_blank_lines=True,skiprows=skip_rows,header=(0 if header==1 else None))\n",
    "    elif file_path.endswith('.xlsx'):\n",
    "        df = pd.read_excel(file_path,sheet_name=sheet_name,skiprows=skip_rows,header=(0 if header==1 else None))\n",
    "    else: return None\n",
    "    \n",
    "    total_row_count = len(df) + skip_rows\n",
    "    \n",
    "    # exclude empty row\n",
    "    df = df.applymap(lambda x: x.strip() if isinstance(x, str) else x)\n",
    "    df.replace('',np.nan, inplace=True)\n",
    "    df.dropna(how='all', inplace=True)\n",
    "    \n",
    "    valid_row_count = len(df.dropna(how='all'))\n",
    "    return total_row_count, valid_row_count"
   ]
  },
  {
   "cell_type": "code",
   "execution_count": 35,
   "id": "36860e36",
   "metadata": {
    "scrolled": true
   },
   "outputs": [
    {
     "data": {
      "text/html": [
       "<div>\n",
       "<style scoped>\n",
       "    .dataframe tbody tr th:only-of-type {\n",
       "        vertical-align: middle;\n",
       "    }\n",
       "\n",
       "    .dataframe tbody tr th {\n",
       "        vertical-align: top;\n",
       "    }\n",
       "\n",
       "    .dataframe thead th {\n",
       "        text-align: right;\n",
       "    }\n",
       "</style>\n",
       "<table border=\"1\" class=\"dataframe\">\n",
       "  <thead>\n",
       "    <tr style=\"text-align: right;\">\n",
       "      <th></th>\n",
       "      <th>File_Path</th>\n",
       "      <th>Total_Row_Count</th>\n",
       "      <th>Valid_Row_Count</th>\n",
       "    </tr>\n",
       "  </thead>\n",
       "  <tbody>\n",
       "    <tr>\n",
       "      <th>0</th>\n",
       "      <td>data/Source.csv</td>\n",
       "      <td>13</td>\n",
       "      <td>6</td>\n",
       "    </tr>\n",
       "    <tr>\n",
       "      <th>1</th>\n",
       "      <td>data/Source.xlsx</td>\n",
       "      <td>11</td>\n",
       "      <td>6</td>\n",
       "    </tr>\n",
       "  </tbody>\n",
       "</table>\n",
       "</div>"
      ],
      "text/plain": [
       "          File_Path Total_Row_Count Valid_Row_Count\n",
       "0   data/Source.csv              13               6\n",
       "1  data/Source.xlsx              11               6"
      ]
     },
     "execution_count": 35,
     "metadata": {},
     "output_type": "execute_result"
    }
   ],
   "source": [
    "df_result = pd.DataFrame(columns=['File_Path','Total_Row_Count','Valid_Row_Count'])\n",
    "\n",
    "# count for each file\n",
    "for i in df_fl.index:\n",
    "    file_path = df_fl.loc[i,'File_Path']\n",
    "    skip_rows = df_fl.loc[i,'Skip_Rows']\n",
    "    header = df_fl.loc[i,'Header']\n",
    "    sheet_name = df_fl.loc[i, 'Sheet_Name']\n",
    "    total_row_count,valid_row_count  = count_rows(file_path, skip_rows, header, sheet_name)\n",
    "    df_result = pd.concat([df_result,pd.DataFrame(\n",
    "        {'File_Path':file_path,'Total_Row_Count':total_row_count,'Valid_Row_Count':valid_row_count},index=[0]\n",
    "    )],ignore_index=True)\n",
    "    \n",
    "\n",
    "df_result"
   ]
  }
 ],
 "metadata": {
  "celltoolbar": "Raw Cell Format",
  "kernelspec": {
   "display_name": "Python 3 (ipykernel)",
   "language": "python",
   "name": "python3"
  },
  "language_info": {
   "codemirror_mode": {
    "name": "ipython",
    "version": 3
   },
   "file_extension": ".py",
   "mimetype": "text/x-python",
   "name": "python",
   "nbconvert_exporter": "python",
   "pygments_lexer": "ipython3",
   "version": "3.9.13"
  }
 },
 "nbformat": 4,
 "nbformat_minor": 5
}
