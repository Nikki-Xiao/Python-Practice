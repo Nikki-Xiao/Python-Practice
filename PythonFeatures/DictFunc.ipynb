{
 "cells": [
  {
   "cell_type": "markdown",
   "metadata": {},
   "source": [
    "use python dict to dynamically implement the related function, by passing parameter and no need to write a few redundant codes"
   ]
  },
  {
   "cell_type": "code",
   "execution_count": 1,
   "metadata": {},
   "outputs": [],
   "source": [
    "# declare the functions\n",
    "\n",
    "def funcA(input):\n",
    "    print(f'funcA is executing with the paramter of {input}!!')\n",
    "\n",
    "def funcB(input):\n",
    "    print(f'funcB is executing with the paramter of {input}!!')\n",
    "\n",
    "def funcC(input):\n",
    "    print(f'funcC is executing with the paramter of {input}!!')\n",
    "\n",
    "def funcD(input):\n",
    "    print(f'funcD is executing with the paramter of {input}!!')\n"
   ]
  },
  {
   "cell_type": "code",
   "execution_count": 2,
   "metadata": {},
   "outputs": [],
   "source": [
    "# method 1\n",
    "func_dict = {\n",
    "    'A': funcA,\n",
    "    'B': funcB,\n",
    "    'C': funcC,\n",
    "    'D': funcD,\n",
    "}"
   ]
  },
  {
   "cell_type": "code",
   "execution_count": 3,
   "metadata": {},
   "outputs": [
    {
     "name": "stdout",
     "output_type": "stream",
     "text": [
      "funcA is executing with the paramter of test_dict!!\n"
     ]
    }
   ],
   "source": [
    "func_dict.get('A',lambda x:None)('test_dict')\n",
    "func_dict.get('unkonw',lambda x:None)('test_dict')"
   ]
  },
  {
   "cell_type": "code",
   "execution_count": 4,
   "metadata": {},
   "outputs": [],
   "source": [
    "# method 2\n",
    "def dispatch_dict(funcName,input):\n",
    "    return {\n",
    "    'A': funcA,\n",
    "    'B': funcB,\n",
    "    'C': funcC,\n",
    "    'D': funcD,\n",
    "    }.get(funcName,lambda x:None)(input)"
   ]
  },
  {
   "cell_type": "code",
   "execution_count": 5,
   "metadata": {},
   "outputs": [
    {
     "name": "stdout",
     "output_type": "stream",
     "text": [
      "funcA is executing with the paramter of test_dispatch!!\n"
     ]
    }
   ],
   "source": [
    "dispatch_dict('A','test_dispatch')"
   ]
  },
  {
   "cell_type": "code",
   "execution_count": 6,
   "metadata": {},
   "outputs": [
    {
     "name": "stdout",
     "output_type": "stream",
     "text": [
      "funcA is executing with the paramter of test_dispatch!!\n"
     ]
    }
   ],
   "source": [
    "# method 3\n",
    "func_dict = {\n",
    "    'A': funcA,\n",
    "    'B': funcB,\n",
    "    'C': funcC,\n",
    "    'D': funcD,\n",
    "}\n",
    "\n",
    "def dispatch_dict(funcName,input):\n",
    "    return func_dict.get(funcName,lambda x:None)(input)\n",
    "\n",
    "dispatch_dict('A','test_dispatch')"
   ]
  }
 ],
 "metadata": {
  "kernelspec": {
   "display_name": "base",
   "language": "python",
   "name": "python3"
  },
  "language_info": {
   "codemirror_mode": {
    "name": "ipython",
    "version": 3
   },
   "file_extension": ".py",
   "mimetype": "text/x-python",
   "name": "python",
   "nbconvert_exporter": "python",
   "pygments_lexer": "ipython3",
   "version": "3.12.4"
  }
 },
 "nbformat": 4,
 "nbformat_minor": 2
}
