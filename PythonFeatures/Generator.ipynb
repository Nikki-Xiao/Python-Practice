{
 "cells": [
  {
   "cell_type": "markdown",
   "metadata": {},
   "source": [
    "Python中的generator（生成器）是一种用于生成迭代序列的特殊函数。与常规函数不同，生成器在执行过程中可以暂停，并通过yield返回值，而不是return。这种机制使生成器在处理大量数据时特别高效，因为它不会一次性将整个数据加载到内存中，而是按需生成数据"
   ]
  },
  {
   "cell_type": "markdown",
   "metadata": {},
   "source": [
    "1. 使用生成器代替列表/字典推导式\n",
    "当数据量很大时，生成器表达式可以替代列表或字典推导式来节省内存。例如，在处理大规模数据时，生成器会按需生成元素，而不是一次性将所有元素存储在内存中："
   ]
  },
  {
   "cell_type": "code",
   "execution_count": 31,
   "metadata": {},
   "outputs": [],
   "source": [
    "square = [x * x for x in range(1000000)] # 列表推导式（会生成完整列表，占用内存）\n",
    "square_gen = (x * x for x in range(100000)) # 生成器表达式（按需生成元素，内存占用小）"
   ]
  },
  {
   "cell_type": "code",
   "execution_count": 29,
   "metadata": {},
   "outputs": [
    {
     "data": {
      "text/plain": [
       "25"
      ]
     },
     "execution_count": 29,
     "metadata": {},
     "output_type": "execute_result"
    }
   ],
   "source": [
    "square_gen.__next__()"
   ]
  },
  {
   "cell_type": "markdown",
   "metadata": {},
   "source": [
    "2. 使用生成器函数通过yield关键字逐步返回数据，而不是一次性返回所有数据。当你不需要一次性处理所有数据时，这种方式非常有用。"
   ]
  },
  {
   "cell_type": "code",
   "execution_count": 88,
   "metadata": {},
   "outputs": [],
   "source": [
    "def square_gen(max_num):\n",
    "    start = 0\n",
    "    while start < max_num:\n",
    "        yield start * start\n",
    "        start += 1\n",
    "square_gen1 = square_gen(3)"
   ]
  },
  {
   "cell_type": "code",
   "execution_count": 89,
   "metadata": {},
   "outputs": [
    {
     "data": {
      "text/plain": [
       "0"
      ]
     },
     "execution_count": 89,
     "metadata": {},
     "output_type": "execute_result"
    }
   ],
   "source": [
    "square_gen1.__next__()"
   ]
  },
  {
   "cell_type": "code",
   "execution_count": 58,
   "metadata": {},
   "outputs": [
    {
     "data": {
      "text/plain": [
       "'Albania,1987,male,15-24 years,21,312900,6.71,Albania1987,,\"2,156,624,900\",796,Generation X\\n'"
      ]
     },
     "execution_count": 58,
     "metadata": {},
     "output_type": "execute_result"
    }
   ],
   "source": [
    "file_path = r'../source_file/master.csv'\n",
    "def read_large_file(path):\n",
    "    with open(path, 'r') as file:\n",
    "        for line in file:\n",
    "            yield line\n",
    "data = read_large_file(file_path)\n",
    "\n",
    "# # 使用生成器按行读取文件\n",
    "# for line in read_large_file(file_path):\n",
    "#     print(line.split(','))  # 逐行处理，避免一次加载整个文件\n",
    "\n",
    "data.__next__()\n",
    "data.__next__()"
   ]
  },
  {
   "cell_type": "markdown",
   "metadata": {},
   "source": [
    "3. Python的itertools模块提供了许多工具来操作生成器或其他迭代器。结合这些工具可以进一步增强生成器的能力。例如，itertools.islice()允许你切片生成器，而不用像列表那样全部加载。"
   ]
  },
  {
   "cell_type": "code",
   "execution_count": 59,
   "metadata": {},
   "outputs": [
    {
     "name": "stdout",
     "output_type": "stream",
     "text": [
      "[0, 1, 4, 9, 16, 25, 36, 49, 64, 81]\n"
     ]
    }
   ],
   "source": [
    "import itertools\n",
    "\n",
    "gen = (x * x for x in range(1000))\n",
    "first_ten = itertools.islice(gen, 10)\n",
    "\n",
    "print(list(first_ten))  # 输出前10个平方值\n"
   ]
  },
  {
   "cell_type": "markdown",
   "metadata": {},
   "source": [
    "4. 生成器可能由于异常中断而提前结束。  \n",
    "1)可以通过捕获生成器内部的异常来处理这种情况  \n",
    "2)生成器也可以显式关闭，释放其资源"
   ]
  },
  {
   "cell_type": "code",
   "execution_count": 100,
   "metadata": {},
   "outputs": [
    {
     "name": "stdout",
     "output_type": "stream",
     "text": [
      "0\n"
     ]
    }
   ],
   "source": [
    "def controlled_generator(n):\n",
    "    try:\n",
    "        for i in range(n):\n",
    "            yield i\n",
    "    except GeneratorExit:\n",
    "        print(\"Generator has been closed\")\n",
    "\n",
    "try:\n",
    "    gen = controlled_generator(1)\n",
    "    print(gen.__next__())\n",
    "    print(gen.__next__())\n",
    "except StopIteration as e:\n",
    "    pass    \n"
   ]
  },
  {
   "cell_type": "code",
   "execution_count": 101,
   "metadata": {},
   "outputs": [
    {
     "name": "stdout",
     "output_type": "stream",
     "text": [
      "Generator has been closed\n"
     ]
    }
   ],
   "source": [
    "gen = controlled_generator(6)\n",
    "for item in gen:\n",
    "    if item == 5:\n",
    "        gen.close()  # 手动关闭生成器"
   ]
  }
 ],
 "metadata": {
  "kernelspec": {
   "display_name": "base",
   "language": "python",
   "name": "python3"
  },
  "language_info": {
   "codemirror_mode": {
    "name": "ipython",
    "version": 3
   },
   "file_extension": ".py",
   "mimetype": "text/x-python",
   "name": "python",
   "nbconvert_exporter": "python",
   "pygments_lexer": "ipython3",
   "version": "3.12.4"
  }
 },
 "nbformat": 4,
 "nbformat_minor": 2
}
